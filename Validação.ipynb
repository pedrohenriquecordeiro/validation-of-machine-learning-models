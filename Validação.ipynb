{
  "nbformat": 4,
  "nbformat_minor": 0,
  "metadata": {
    "colab": {
      "name": "Validação.ipynb",
      "version": "0.3.2",
      "provenance": [],
      "collapsed_sections": [],
      "include_colab_link": true
    },
    "kernelspec": {
      "name": "python3",
      "display_name": "Python 3"
    }
  },
  "cells": [
    {
      "cell_type": "markdown",
      "metadata": {
        "id": "view-in-github",
        "colab_type": "text"
      },
      "source": [
        "<a href=\"https://colab.research.google.com/github/pedrohenriquecordeiro/validation-of-machine-learning-models/blob/master/Valida%C3%A7%C3%A3o.ipynb\" target=\"_parent\"><img src=\"https://colab.research.google.com/assets/colab-badge.svg\" alt=\"Open In Colab\"/></a>"
      ]
    },
    {
      "cell_type": "markdown",
      "metadata": {
        "id": "DMmAxH1jkygM",
        "colab_type": "text"
      },
      "source": [
        "#  Importa os dados\n",
        "### Dados com registro de carros"
      ]
    },
    {
      "cell_type": "code",
      "metadata": {
        "id": "S0grT4XOYXEq",
        "colab_type": "code",
        "outputId": "9b0a2937-3cc9-4fb7-bb6e-6ea67d7fc614",
        "colab": {
          "base_uri": "https://localhost:8080/",
          "height": 204
        }
      },
      "source": [
        "import pandas as pd\n",
        "\n",
        "uri = \"https://gist.githubusercontent.com/guilhermesilveira/e99a526b2e7ccc6c3b70f53db43a87d2/raw/1605fc74aa778066bf2e6695e24d53cf65f2f447/machine-learning-carros-simulacao.csv\"\n",
        "dados = pd.read_csv(uri).drop(columns=[\"Unnamed: 0\"], axis=1)\n",
        "dados.head()"
      ],
      "execution_count": 8,
      "outputs": [
        {
          "output_type": "execute_result",
          "data": {
            "text/html": [
              "<div>\n",
              "<style scoped>\n",
              "    .dataframe tbody tr th:only-of-type {\n",
              "        vertical-align: middle;\n",
              "    }\n",
              "\n",
              "    .dataframe tbody tr th {\n",
              "        vertical-align: top;\n",
              "    }\n",
              "\n",
              "    .dataframe thead th {\n",
              "        text-align: right;\n",
              "    }\n",
              "</style>\n",
              "<table border=\"1\" class=\"dataframe\">\n",
              "  <thead>\n",
              "    <tr style=\"text-align: right;\">\n",
              "      <th></th>\n",
              "      <th>preco</th>\n",
              "      <th>vendido</th>\n",
              "      <th>idade_do_modelo</th>\n",
              "      <th>km_por_ano</th>\n",
              "    </tr>\n",
              "  </thead>\n",
              "  <tbody>\n",
              "    <tr>\n",
              "      <th>0</th>\n",
              "      <td>30941.02</td>\n",
              "      <td>1</td>\n",
              "      <td>18</td>\n",
              "      <td>35085.22134</td>\n",
              "    </tr>\n",
              "    <tr>\n",
              "      <th>1</th>\n",
              "      <td>40557.96</td>\n",
              "      <td>1</td>\n",
              "      <td>20</td>\n",
              "      <td>12622.05362</td>\n",
              "    </tr>\n",
              "    <tr>\n",
              "      <th>2</th>\n",
              "      <td>89627.50</td>\n",
              "      <td>0</td>\n",
              "      <td>12</td>\n",
              "      <td>11440.79806</td>\n",
              "    </tr>\n",
              "    <tr>\n",
              "      <th>3</th>\n",
              "      <td>95276.14</td>\n",
              "      <td>0</td>\n",
              "      <td>3</td>\n",
              "      <td>43167.32682</td>\n",
              "    </tr>\n",
              "    <tr>\n",
              "      <th>4</th>\n",
              "      <td>117384.68</td>\n",
              "      <td>1</td>\n",
              "      <td>4</td>\n",
              "      <td>12770.11290</td>\n",
              "    </tr>\n",
              "  </tbody>\n",
              "</table>\n",
              "</div>"
            ],
            "text/plain": [
              "       preco  vendido  idade_do_modelo   km_por_ano\n",
              "0   30941.02        1               18  35085.22134\n",
              "1   40557.96        1               20  12622.05362\n",
              "2   89627.50        0               12  11440.79806\n",
              "3   95276.14        0                3  43167.32682\n",
              "4  117384.68        1                4  12770.11290"
            ]
          },
          "metadata": {
            "tags": []
          },
          "execution_count": 8
        }
      ]
    },
    {
      "cell_type": "markdown",
      "metadata": {
        "id": "0NYFXoewlX_T",
        "colab_type": "text"
      },
      "source": [
        "### Separa os dados"
      ]
    },
    {
      "cell_type": "code",
      "metadata": {
        "id": "Oy3AirdfOvh8",
        "colab_type": "code",
        "colab": {}
      },
      "source": [
        "import numpy as np\n",
        "# fixa a aleatoriedade\n",
        "SEED = 0\n",
        "np.random.seed(SEED)"
      ],
      "execution_count": 0,
      "outputs": []
    },
    {
      "cell_type": "code",
      "metadata": {
        "id": "mD5ZvxKmlfDc",
        "colab_type": "code",
        "outputId": "e16f52b6-640d-4a9c-8e78-76f4d5fea323",
        "colab": {
          "base_uri": "https://localhost:8080/",
          "height": 34
        }
      },
      "source": [
        "from sklearn.model_selection import train_test_split\n",
        "from sklearn.svm import LinearSVC\n",
        "from sklearn.metrics import accuracy_score\n",
        "\n",
        "\n",
        "# separa os dados - caracteristicas , marcacoes\n",
        "x = dados[[\"preco\", \"idade_do_modelo\",\"km_por_ano\"]]\n",
        "y = dados[\"vendido\"]\n",
        "\n",
        "# separa os dados para treino e teste\n",
        "treino_x, teste_x, treino_y, teste_y = train_test_split(x, y, \n",
        "                                     test_size = 0.25,\n",
        "                                     stratify = y)\n",
        "print(\n",
        "    \"Treinaremos com %d elementos e testaremos com %d elementos\" % \n",
        "      (len(treino_x), len(teste_x)))"
      ],
      "execution_count": 10,
      "outputs": [
        {
          "output_type": "stream",
          "text": [
            "Treinaremos com 7500 elementos e testaremos com 2500 elementos\n"
          ],
          "name": "stdout"
        }
      ]
    },
    {
      "cell_type": "markdown",
      "metadata": {
        "id": "032ns7HCmj5f",
        "colab_type": "text"
      },
      "source": [
        "## Usa o dummyClassifier como baseline"
      ]
    },
    {
      "cell_type": "code",
      "metadata": {
        "id": "wV967dL6mqx3",
        "colab_type": "code",
        "outputId": "6591e829-63e2-493b-d4ae-6b8c93b34ddd",
        "colab": {
          "base_uri": "https://localhost:8080/",
          "height": 34
        }
      },
      "source": [
        "from sklearn.dummy import DummyClassifier\n",
        "\n",
        "dummy_stratified = DummyClassifier()\n",
        "dummy_stratified.fit(treino_x, treino_y)\n",
        "acuracia = dummy_stratified.score(teste_x, teste_y) * 100\n",
        "\n",
        "print(\"A acurácia do dummy stratified foi de %.2f%%\" % acuracia)"
      ],
      "execution_count": 11,
      "outputs": [
        {
          "output_type": "stream",
          "text": [
            "A acurácia do dummy stratified foi de 51.76%\n"
          ],
          "name": "stdout"
        }
      ]
    },
    {
      "cell_type": "markdown",
      "metadata": {
        "id": "W3AckFm5nKsY",
        "colab_type": "text"
      },
      "source": [
        "## Classifica com uma arvore de decisão de profundidade 2\n",
        "\n",
        "### SEED igual a 0"
      ]
    },
    {
      "cell_type": "code",
      "metadata": {
        "id": "Beqtq8bXnCmw",
        "colab_type": "code",
        "outputId": "dc8817db-cc50-46f2-a555-e71209da7952",
        "colab": {
          "base_uri": "https://localhost:8080/",
          "height": 34
        }
      },
      "source": [
        "from sklearn.tree import DecisionTreeClassifier\n",
        "\n",
        "modelo = DecisionTreeClassifier(max_depth = 2)\n",
        "modelo.fit(treino_x, treino_y)\n",
        "previsoes = modelo.predict(teste_x)\n",
        "\n",
        "acuracia = accuracy_score(teste_y, previsoes) * 100\n",
        "print (\"A acurácia foi %.2f%%\" % acuracia)"
      ],
      "execution_count": 12,
      "outputs": [
        {
          "output_type": "stream",
          "text": [
            "A acurácia foi 75.48%\n"
          ],
          "name": "stdout"
        }
      ]
    },
    {
      "cell_type": "markdown",
      "metadata": {
        "id": "k2153m1EoXX0",
        "colab_type": "text"
      },
      "source": [
        "Estamos vulneráveis a tomar uma decisão baseada em uma aleatoriedade. Não faz sentido validar, julgar se é bom ou ruim, de acordo com um número aleatório. Queremos minimizar o efeito dessa aleatoriedade, dessa escolha aleatória do treino, do teste e da DecisionTreeClassifier, na nossa decisão.\n",
        "\n",
        "### com o SEED igual a 158020 a acuracia foi de 71.92%"
      ]
    },
    {
      "cell_type": "markdown",
      "metadata": {
        "id": "fsAzJ1yMjOTH",
        "colab_type": "text"
      },
      "source": [
        " Em vez de apenas separarmos os dados em treino e teste (holdout), separaremos em N pedaços, para treinar, testar e validar o algoritmo de maneira cruzada. O nome deste processo é Cross Validation.\n",
        "\n",
        " A ideia é quebrarmos os dados em N pedaços e, então, rodarmos K processos de treino e teste, validando nosso algorítimo de maneira cruzada. Esse processo é chamado de K-fold, referente ao número (K) de vezes que quebraremos os dados para rodar a validação cruzada. \n",
        " \n",
        " #### Nota K <= N."
      ]
    },
    {
      "cell_type": "markdown",
      "metadata": {
        "id": "8Z0fzQx-qfMg",
        "colab_type": "text"
      },
      "source": [
        "# Usando o Cross Validate \n",
        "### O Cross Validate é uma validação! Não é um treinamento!\n",
        "\n",
        "o cross validate é deterministico "
      ]
    },
    {
      "cell_type": "code",
      "metadata": {
        "id": "vvrrIQTAraWd",
        "colab_type": "code",
        "outputId": "da538077-228c-4de1-df48-010855a5eadf",
        "colab": {
          "base_uri": "https://localhost:8080/",
          "height": 51
        }
      },
      "source": [
        "from sklearn.model_selection import cross_validate\n",
        "from sklearn.model_selection import StratifiedKFold\n",
        "\n",
        "# 1- define 5 slitter classes\n",
        "# 2- habilita a aleatoriedade no Cross Validade\n",
        "#    separando os N grupos de forma aleatória\n",
        "# 3- estratifica os dados de teste e treino\n",
        "cv = StratifiedKFold( n_splits = 5 , shuffle = True)\n",
        "\n",
        "modelo = DecisionTreeClassifier(max_depth = 2)\n",
        "results = cross_validate(modelo , x , y , \n",
        "                         cv = cv , \n",
        "                         return_train_score = False)\n",
        "\n",
        "media = results ['test_score'].mean()\n",
        "desvio_padrao = results['test_score'].std()\n",
        "print(\"Accuracy mean: %.2f%%\" % (media * 100))\n",
        "print(\"Accuracy [%.2f%%, %.2f%%]\" % \n",
        "      ((media - 2 *desvio_padrao) * 100, \n",
        "       (media + 2 * desvio_padrao) * 100))"
      ],
      "execution_count": 13,
      "outputs": [
        {
          "output_type": "stream",
          "text": [
            "Accuracy mean: 75.78%\n",
            "Accuracy [74.25%, 77.31%]\n"
          ],
          "name": "stdout"
        }
      ]
    },
    {
      "cell_type": "markdown",
      "metadata": {
        "id": "IZsGrdpKVikE",
        "colab_type": "text"
      },
      "source": [
        "## Criando o campo modelo para a VALIDAÇÃO ser mais realista\n",
        "### Para efetuarmos a VALIDAÇÃO a partir do tipo de modelo de carro\n",
        "#### Iremos adicionar ao dataset um campo que indica o modelo do carro em questão"
      ]
    },
    {
      "cell_type": "code",
      "metadata": {
        "id": "1S4P79xZUJww",
        "colab_type": "code",
        "outputId": "356c4575-078d-45aa-b560-1e052d8a7b76",
        "colab": {
          "base_uri": "https://localhost:8080/",
          "height": 204
        }
      },
      "source": [
        "import pandas as pd\n",
        "carros = pd.read_csv('modelos-carro.csv')\n",
        "carros.head()"
      ],
      "execution_count": 14,
      "outputs": [
        {
          "output_type": "execute_result",
          "data": {
            "text/html": [
              "<div>\n",
              "<style scoped>\n",
              "    .dataframe tbody tr th:only-of-type {\n",
              "        vertical-align: middle;\n",
              "    }\n",
              "\n",
              "    .dataframe tbody tr th {\n",
              "        vertical-align: top;\n",
              "    }\n",
              "\n",
              "    .dataframe thead th {\n",
              "        text-align: right;\n",
              "    }\n",
              "</style>\n",
              "<table border=\"1\" class=\"dataframe\">\n",
              "  <thead>\n",
              "    <tr style=\"text-align: right;\">\n",
              "      <th></th>\n",
              "      <th>ID;IDMARCA;NOME</th>\n",
              "    </tr>\n",
              "  </thead>\n",
              "  <tbody>\n",
              "    <tr>\n",
              "      <th>0</th>\n",
              "      <td>1;25;INTEGRA</td>\n",
              "    </tr>\n",
              "    <tr>\n",
              "      <th>1</th>\n",
              "      <td>2;25;LEGEND</td>\n",
              "    </tr>\n",
              "    <tr>\n",
              "      <th>2</th>\n",
              "      <td>3;25;NSX</td>\n",
              "    </tr>\n",
              "    <tr>\n",
              "      <th>3</th>\n",
              "      <td>4;27;MARRUA</td>\n",
              "    </tr>\n",
              "    <tr>\n",
              "      <th>4</th>\n",
              "      <td>5;28;145</td>\n",
              "    </tr>\n",
              "  </tbody>\n",
              "</table>\n",
              "</div>"
            ],
            "text/plain": [
              "  ID;IDMARCA;NOME\n",
              "0    1;25;INTEGRA\n",
              "1     2;25;LEGEND\n",
              "2        3;25;NSX\n",
              "3     4;27;MARRUA\n",
              "4        5;28;145"
            ]
          },
          "metadata": {
            "tags": []
          },
          "execution_count": 14
        }
      ]
    },
    {
      "cell_type": "markdown",
      "metadata": {
        "id": "DbVztHxKaZbh",
        "colab_type": "text"
      },
      "source": [
        "#### Filtra os dados, selecionando apenas os nomes"
      ]
    },
    {
      "cell_type": "code",
      "metadata": {
        "id": "6OIysMHnacsP",
        "colab_type": "code",
        "outputId": "033686b5-37de-46e7-f9ab-1498101cd0a1",
        "colab": {
          "base_uri": "https://localhost:8080/",
          "height": 34
        }
      },
      "source": [
        "names = []\n",
        "import re\n",
        "\n",
        "re1 = '.*?'\t# Non-greedy match on filler\n",
        "re2 = '((?:[a-z][a-z]+))'\t# Word 1\n",
        "rg = re.compile(re1+re2,re.IGNORECASE|re.DOTALL)\n",
        "\n",
        "for index, row in carros.iterrows():\n",
        "    text = row['ID;IDMARCA;NOME']\n",
        "    m = rg.search(text)\n",
        "    if m:\n",
        "      name = m.group(1)\n",
        "      names.append(name)\n",
        "\n",
        "from random import shuffle\n",
        "shuffle(names)\n",
        "\n",
        "# print(names)\n",
        "print(len(names))"
      ],
      "execution_count": 15,
      "outputs": [
        {
          "output_type": "stream",
          "text": [
            "1026\n"
          ],
          "name": "stdout"
        }
      ]
    },
    {
      "cell_type": "markdown",
      "metadata": {
        "id": "zqZ3XMCVcvqM",
        "colab_type": "text"
      },
      "source": [
        "### Cria nova feature ao dataset dados\n",
        "Essa feature será o nome do modelo.\n",
        "O nome do modelo é estócastico, porém é baseado no ano do modelo"
      ]
    },
    {
      "cell_type": "code",
      "metadata": {
        "id": "H5R3z-ipc06x",
        "colab_type": "code",
        "outputId": "14ee6095-a022-4f4f-934d-c71f6745ca2b",
        "colab": {
          "base_uri": "https://localhost:8080/",
          "height": 204
        }
      },
      "source": [
        "import numpy as np\n",
        "\n",
        "# usamos uma faixa de valores para os modelos serem mais organicos dentro do dataset\n",
        "num_sorteados = np.clip(\n",
        "    dados.idade_do_modelo + np.random.randint(-10 ,10 + 1 , size = len(dados)),\n",
        "    0,\n",
        "    len(names))\n",
        "\n",
        "# cria lista com os carros sorteados\n",
        "carros_sorteados = [names[i] for i in num_sorteados]\n",
        "\n",
        "# cria a nova coluna\n",
        "dados['modelo'] = carros_sorteados\n",
        "dados.head()"
      ],
      "execution_count": 16,
      "outputs": [
        {
          "output_type": "execute_result",
          "data": {
            "text/html": [
              "<div>\n",
              "<style scoped>\n",
              "    .dataframe tbody tr th:only-of-type {\n",
              "        vertical-align: middle;\n",
              "    }\n",
              "\n",
              "    .dataframe tbody tr th {\n",
              "        vertical-align: top;\n",
              "    }\n",
              "\n",
              "    .dataframe thead th {\n",
              "        text-align: right;\n",
              "    }\n",
              "</style>\n",
              "<table border=\"1\" class=\"dataframe\">\n",
              "  <thead>\n",
              "    <tr style=\"text-align: right;\">\n",
              "      <th></th>\n",
              "      <th>preco</th>\n",
              "      <th>vendido</th>\n",
              "      <th>idade_do_modelo</th>\n",
              "      <th>km_por_ano</th>\n",
              "      <th>modelo</th>\n",
              "    </tr>\n",
              "  </thead>\n",
              "  <tbody>\n",
              "    <tr>\n",
              "      <th>0</th>\n",
              "      <td>30941.02</td>\n",
              "      <td>1</td>\n",
              "      <td>18</td>\n",
              "      <td>35085.22134</td>\n",
              "      <td>AXE</td>\n",
              "    </tr>\n",
              "    <tr>\n",
              "      <th>1</th>\n",
              "      <td>40557.96</td>\n",
              "      <td>1</td>\n",
              "      <td>20</td>\n",
              "      <td>12622.05362</td>\n",
              "      <td>PARK</td>\n",
              "    </tr>\n",
              "    <tr>\n",
              "      <th>2</th>\n",
              "      <td>89627.50</td>\n",
              "      <td>0</td>\n",
              "      <td>12</td>\n",
              "      <td>11440.79806</td>\n",
              "      <td>ANKONIAN</td>\n",
              "    </tr>\n",
              "    <tr>\n",
              "      <th>3</th>\n",
              "      <td>95276.14</td>\n",
              "      <td>0</td>\n",
              "      <td>3</td>\n",
              "      <td>43167.32682</td>\n",
              "      <td>RANGER</td>\n",
              "    </tr>\n",
              "    <tr>\n",
              "      <th>4</th>\n",
              "      <td>117384.68</td>\n",
              "      <td>1</td>\n",
              "      <td>4</td>\n",
              "      <td>12770.11290</td>\n",
              "      <td>HSC</td>\n",
              "    </tr>\n",
              "  </tbody>\n",
              "</table>\n",
              "</div>"
            ],
            "text/plain": [
              "       preco  vendido  idade_do_modelo   km_por_ano    modelo\n",
              "0   30941.02        1               18  35085.22134       AXE\n",
              "1   40557.96        1               20  12622.05362      PARK\n",
              "2   89627.50        0               12  11440.79806  ANKONIAN\n",
              "3   95276.14        0                3  43167.32682    RANGER\n",
              "4  117384.68        1                4  12770.11290       HSC"
            ]
          },
          "metadata": {
            "tags": []
          },
          "execution_count": 16
        }
      ]
    },
    {
      "cell_type": "markdown",
      "metadata": {
        "id": "ih3bu5JCn0TN",
        "colab_type": "text"
      },
      "source": [
        "# Separa treino e teste na validação cruzada, de acordo com os grupos\n",
        "No mundo real, a qualquer momento pode surgir um novo modelo de carro e nosso algorítimo terá que saber lidar com esse modelo\n",
        "#### Dessa forma, o teste vai ficar com apenas determinados tipo de grupos de modelos e o treino com outros diferentes grupos de modelos\n",
        "\n",
        "É o caminho inverso de estratificar os dados"
      ]
    },
    {
      "cell_type": "code",
      "metadata": {
        "id": "IqgTEmAnn4o2",
        "colab_type": "code",
        "outputId": "bedc48bd-6bd3-429e-ab01-77b27a01e400",
        "colab": {
          "base_uri": "https://localhost:8080/",
          "height": 51
        }
      },
      "source": [
        "from sklearn.model_selection import GroupKFold\n",
        "\n",
        "cv = GroupKFold(n_splits = 10)\n",
        "\n",
        "modelo = DecisionTreeClassifier(max_depth=2)\n",
        "results = cross_validate(modelo, \n",
        "                         x,y, \n",
        "                         cv = cv, \n",
        "                         groups = dados.modelo, \n",
        "                         return_train_score=False)\n",
        "\n",
        "media = results ['test_score'].mean()\n",
        "desvio_padrao = results['test_score'].std()\n",
        "print(\"Accuracy mean: %.2f%%\" % (media * 100))\n",
        "print(\"Accuracy [%.2f%%, %.2f%%]\" % \n",
        "      ((media - 2 *desvio_padrao) * 100, \n",
        "       (media + 2 * desvio_padrao) * 100))"
      ],
      "execution_count": 17,
      "outputs": [
        {
          "output_type": "stream",
          "text": [
            "Accuracy mean: 75.78%\n",
            "Accuracy [73.32%, 78.24%]\n"
          ],
          "name": "stdout"
        }
      ]
    },
    {
      "cell_type": "markdown",
      "metadata": {
        "id": "qutcHIiUM5C4",
        "colab_type": "text"
      },
      "source": [
        "# Cria um pipeline\n",
        "\n",
        "Teremos um processo de duas fases:\n",
        "\n",
        "* Primeiro, o pré processamento que escala;\n",
        "* depois, a validação.\n",
        "\n",
        "Esse processo deve ser rodado várias vezes, de acordo com os nossos grupos e com os nossos splits. \n",
        "\n",
        "Para cada um dos processos do fold, serão rodados tanto a transformacao, quanto o estimador. "
      ]
    },
    {
      "cell_type": "code",
      "metadata": {
        "id": "WroFZZZpNyDi",
        "colab_type": "code",
        "outputId": "760307f1-0b2c-4e7d-b8a3-9c452b7316c3",
        "colab": {
          "base_uri": "https://localhost:8080/",
          "height": 187
        }
      },
      "source": [
        "from sklearn.pipeline import Pipeline\n",
        "from sklearn.preprocessing import StandardScaler\n",
        "from sklearn.svm import SVC\n",
        "\n",
        "scaler = StandardScaler()\n",
        "modelo = SVC()\n",
        "\n",
        "pipeline = Pipeline([('transformacao', scaler), ('estimador', modelo)])\n",
        "pipeline"
      ],
      "execution_count": 18,
      "outputs": [
        {
          "output_type": "execute_result",
          "data": {
            "text/plain": [
              "Pipeline(memory=None,\n",
              "         steps=[('transformacao',\n",
              "                 StandardScaler(copy=True, with_mean=True, with_std=True)),\n",
              "                ('estimador',\n",
              "                 SVC(C=1.0, cache_size=200, class_weight=None, coef0=0.0,\n",
              "                     decision_function_shape='ovr', degree=3,\n",
              "                     gamma='auto_deprecated', kernel='rbf', max_iter=-1,\n",
              "                     probability=False, random_state=None, shrinking=True,\n",
              "                     tol=0.001, verbose=False))],\n",
              "         verbose=False)"
            ]
          },
          "metadata": {
            "tags": []
          },
          "execution_count": 18
        }
      ]
    },
    {
      "cell_type": "code",
      "metadata": {
        "id": "F3hpsF12Ohth",
        "colab_type": "code",
        "outputId": "f6ea6dcc-d634-4c4f-80d3-fa1edd40943e",
        "colab": {
          "base_uri": "https://localhost:8080/",
          "height": 51
        }
      },
      "source": [
        "cv = GroupKFold(n_splits = 10)\n",
        "results = cross_validate(pipeline, \n",
        "                         x,y, \n",
        "                         cv = cv, \n",
        "                         groups = dados.modelo, \n",
        "                         return_train_score=False)\n",
        "\n",
        "media = results ['test_score'].mean()\n",
        "desvio_padrao = results['test_score'].std()\n",
        "print(\"Accuracy mean: %.2f%%\" % (media * 100))\n",
        "print(\"Accuracy [%.2f%%, %.2f%%]\" % \n",
        "      ((media - 2 *desvio_padrao) * 100, \n",
        "       (media + 2 * desvio_padrao) * 100))"
      ],
      "execution_count": 19,
      "outputs": [
        {
          "output_type": "stream",
          "text": [
            "Accuracy mean: 76.84%\n",
            "Accuracy [74.66%, 79.02%]\n"
          ],
          "name": "stdout"
        }
      ]
    }
  ]
}